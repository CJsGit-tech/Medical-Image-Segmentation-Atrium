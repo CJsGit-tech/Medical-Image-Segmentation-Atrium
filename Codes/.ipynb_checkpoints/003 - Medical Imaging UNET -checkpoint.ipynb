{
 "cells": [
  {
   "cell_type": "code",
   "execution_count": 1,
   "id": "51137d80",
   "metadata": {},
   "outputs": [],
   "source": [
    "import tensorflow as tf \n",
    "import matplotlib.pyplot as plt\n",
    "import numpy as np"
   ]
  },
  {
   "cell_type": "markdown",
   "id": "50223258",
   "metadata": {},
   "source": [
    "## Preparing Dataset"
   ]
  },
  {
   "cell_type": "code",
   "execution_count": 2,
   "id": "e8efa1fa",
   "metadata": {},
   "outputs": [
    {
     "data": {
      "text/plain": [
       "(16, 2, 2)"
      ]
     },
     "execution_count": 2,
     "metadata": {},
     "output_type": "execute_result"
    }
   ],
   "source": [
    "def parse_data(sample):\n",
    "    feature_description = {\n",
    "        'image':tf.io.FixedLenFeature([], tf.string),\n",
    "        'seg_map':tf.io.FixedLenFeature([], tf.string),\n",
    "    }\n",
    "    sample = tf.io.parse_single_example(sample, feature_description)\n",
    "    sample['image'] = tf.io.decode_png(sample['image'],channels=1,dtype=tf.uint16)\n",
    "    sample['seg_map'] = tf.io.decode_png(sample['seg_map'],channels=1)\n",
    "    return sample\n",
    "\n",
    "\n",
    "def prepare_data(sample):\n",
    "    mri = tf.cast(sample['image'],dtype=tf.float16)\n",
    "    mri = tf.image.resize(mri,size=(224,224))\n",
    "    mri = mri / 255.0\n",
    "    \n",
    "    seg_map = tf.cast(sample['seg_map'],dtype=tf.uint8)\n",
    "    seg_map = tf.image.resize(seg_map,size=(224,224))\n",
    "    \n",
    "    return mri, seg_map\n",
    "\n",
    "# Datset paths\n",
    "train = tf.io.gfile.glob('../datasets/Atrium-Segmentation/TF-Record/train/*')\n",
    "valid = tf.io.gfile.glob('../datasets/Atrium-Segmentation/TF-Record/valid/*')\n",
    "test = tf.io.gfile.glob('../datasets/Atrium-Segmentation/TF-Record/test/*')\n",
    "len(train),len(valid),len(test)"
   ]
  },
  {
   "cell_type": "code",
   "execution_count": 3,
   "id": "5aed85ca",
   "metadata": {},
   "outputs": [],
   "source": [
    "def get_dataset(filenames, batch_size, train_test = 'train'):\n",
    "    if train_test == 'train':\n",
    "        dataset = (\n",
    "            tf.data.TFRecordDataset(filenames, num_parallel_reads=tf.data.AUTOTUNE)\n",
    "            .map(parse_data, num_parallel_calls=tf.data.AUTOTUNE)\n",
    "            .map(prepare_data, num_parallel_calls=tf.data.AUTOTUNE)\n",
    "            .batch(batch_size)\n",
    "            .prefetch(tf.data.AUTOTUNE)\n",
    "        )\n",
    "        \n",
    "        return dataset\n",
    "    \n",
    "    elif train_test == 'valid':\n",
    "        dataset = (\n",
    "            tf.data.TFRecordDataset(filenames, num_parallel_reads=tf.data.AUTOTUNE)\n",
    "            .map(parse_data, num_parallel_calls=tf.data.AUTOTUNE)\n",
    "            .map(prepare_data, num_parallel_calls=tf.data.AUTOTUNE)\n",
    "            .batch(batch_size)\n",
    "            .prefetch(tf.data.AUTOTUNE)\n",
    "        )\n",
    "        \n",
    "        return dataset\n",
    "    \n",
    "    elif train_test == 'test':\n",
    "        dataset = (\n",
    "            tf.data.TFRecordDataset(filenames, num_parallel_reads=tf.data.AUTOTUNE)\n",
    "            .map(parse_data, num_parallel_calls=tf.data.AUTOTUNE)\n",
    "            .map(prepare_data, num_parallel_calls=tf.data.AUTOTUNE)\n",
    "            .batch(batch_size)\n",
    "            .prefetch(tf.data.AUTOTUNE)\n",
    "        )\n",
    "        \n",
    "        return dataset\n",
    "    \n",
    "# TF Datasets\n",
    "train_data = get_dataset(train,batch_size=8,train_test='train')\n",
    "valid_data = get_dataset(valid,batch_size=8,train_test='valid')\n",
    "test_data = get_dataset(test,batch_size=8,train_test='test')"
   ]
  },
  {
   "cell_type": "markdown",
   "id": "ba4c05f3",
   "metadata": {},
   "source": [
    "## "
   ]
  },
  {
   "cell_type": "markdown",
   "id": "c47c81b3",
   "metadata": {},
   "source": [
    "## Model Definition "
   ]
  },
  {
   "cell_type": "markdown",
   "id": "b4b52bf5",
   "metadata": {},
   "source": [
    "### UNET\n",
    "<img src='https://pic1.xuehuaimg.com/proxy/csdn/https://img-blog.csdnimg.cn/20181218232106340.png?x-oss-process=image/watermark,type_ZmFuZ3poZW5naGVpdGk,shadow_10,text_aHR0cHM6Ly9ibG9nLmNzZG4ubmV0L3FpYW45OQ==,size_16,color_FFFFFF,t_70' alt='unet' width=500 height=400> <br>\n",
    "<b>Image From:</b> <br>\n",
    "(Unet學習筆記)[https://www.twblogs.net/a/5c1f5909bd9eee16b4a70c4c]"
   ]
  },
  {
   "cell_type": "code",
   "execution_count": 4,
   "id": "88e4864e",
   "metadata": {},
   "outputs": [],
   "source": [
    "#　def conv2d_block\n",
    "　　\n",
    "　　#.protected"
   ]
  },
  {
   "cell_type": "code",
   "execution_count": 5,
   "id": "fa1c0025",
   "metadata": {},
   "outputs": [],
   "source": [
    "# def encoder_block\n",
    "    #.protected\n",
    "\n",
    "def Encoder(input_tensor):\n",
    "    \"\"\"\n",
    "    4 Encoder Blocks as showen above\n",
    "    \"\"\"\n",
    "    features_1, pooling_1 = encoder_block(input_tensor, n_filters=64, pool_size=(2,2))\n",
    "    features_2, pooling_2 = encoder_block(pooling_1, n_filters=128, pool_size=(2,2))\n",
    "    features_3, pooling_3 = encoder_block(pooling_2, n_filters=256, pool_size=(2,2))\n",
    "    features_4, pooling_4 = encoder_block(pooling_3, n_filters=512, pool_size=(2,2))\n",
    "    \n",
    "    # pooling_4 has shape 56 x 56 x 512\n",
    "    return (features_1,features_2,features_3,features_4), pooling_4\n",
    "\n",
    "def BottleNeck(input_tensor):\n",
    "    '''\n",
    "    This function defines the bottleneck convolutions to extract more features before the upsampling layers.\n",
    "    '''\n",
    "    # input_tensor == p4 from the encoder\n",
    "    bottle_neck = conv2d_block(input_tensor, n_filters=2048)\n",
    "\n",
    "    return bottle_neck    \n",
    "    "
   ]
  },
  {
   "cell_type": "markdown",
   "id": "74c6739e",
   "metadata": {},
   "source": [
    "### Decoder\n",
    "\n",
    "Finally, we have the decoder which upsamples the features back to the original image size. At each upsampling level, you will take the output of the corresponding encoder block and concatenate it before feeding to the next decoder block. This is summarized in the figure below.\n",
    "\n",
    "<img src='https://drive.google.com/uc?export=view&id=1Ql5vdw6l88vxaHgk7VjcMc4vfyoWYx2w' alt='unet_decoder' width=500 height=500>"
   ]
  },
  {
   "cell_type": "code",
   "execution_count": 6,
   "id": "a220f06b",
   "metadata": {},
   "outputs": [],
   "source": [
    "# def decoder_block()\n",
    "\n",
    "    #.protected\n",
    "    #.protected\n",
    "\n",
    "def Decoder(input_tensors, encoder_convs,output_channels):\n",
    "    \n",
    "    features_1,features_2,features_3,features_4 = encoder_convs\n",
    "    \n",
    "    bottleneck = input_tensors\n",
    "    \n",
    "    concat_conv_4 = decoder_block(bottleneck, features_4, n_filters=512, kernel_size=(3,3), strides=(2,2))\n",
    "    concat_conv_3 = decoder_block(concat_conv_4, features_3, n_filters=256, kernel_size=(3,3), strides=(2,2))\n",
    "    concat_conv_2 = decoder_block(concat_conv_3, features_2, n_filters=128, kernel_size=(3,3), strides=(2,2))\n",
    "    concat_conv_1 = decoder_block(concat_conv_2, features_1, n_filters=64, kernel_size=(3,3), strides=(2,2))\n",
    "    \n",
    "    # Only one class label\n",
    "    outputs = tf.keras.layers.Conv2D(output_channels, (1, 1), activation='sigmoid')(concat_conv_1)\n",
    "    \n",
    "    return outputs"
   ]
  },
  {
   "cell_type": "markdown",
   "id": "0ac52ab3",
   "metadata": {},
   "source": [
    "## UNET"
   ]
  },
  {
   "cell_type": "code",
   "execution_count": 7,
   "id": "4b9a592e",
   "metadata": {},
   "outputs": [
    {
     "name": "stdout",
     "output_type": "stream",
     "text": [
      "Model: \"model\"\n",
      "__________________________________________________________________________________________________\n",
      " Layer (type)                   Output Shape         Param #     Connected to                     \n",
      "==================================================================================================\n",
      " input_1 (InputLayer)           [(None, 224, 224, 1  0           []                               \n",
      "                                )]                                                                \n",
      "                                                                                                  \n",
      " conv2d (Conv2D)                (None, 224, 224, 64  640         ['input_1[0][0]']                \n",
      "                                )                                                                 \n",
      "                                                                                                  \n",
      " conv2d_1 (Conv2D)              (None, 224, 224, 64  36928       ['conv2d[0][0]']                 \n",
      "                                )                                                                 \n",
      "                                                                                                  \n",
      " max_pooling2d (MaxPooling2D)   (None, 112, 112, 64  0           ['conv2d_1[0][0]']               \n",
      "                                )                                                                 \n",
      "                                                                                                  \n",
      " conv2d_2 (Conv2D)              (None, 112, 112, 12  73856       ['max_pooling2d[0][0]']          \n",
      "                                8)                                                                \n",
      "                                                                                                  \n",
      " conv2d_3 (Conv2D)              (None, 112, 112, 12  147584      ['conv2d_2[0][0]']               \n",
      "                                8)                                                                \n",
      "                                                                                                  \n",
      " max_pooling2d_1 (MaxPooling2D)  (None, 56, 56, 128)  0          ['conv2d_3[0][0]']               \n",
      "                                                                                                  \n",
      " conv2d_4 (Conv2D)              (None, 56, 56, 256)  295168      ['max_pooling2d_1[0][0]']        \n",
      "                                                                                                  \n",
      " conv2d_5 (Conv2D)              (None, 56, 56, 256)  590080      ['conv2d_4[0][0]']               \n",
      "                                                                                                  \n",
      " max_pooling2d_2 (MaxPooling2D)  (None, 28, 28, 256)  0          ['conv2d_5[0][0]']               \n",
      "                                                                                                  \n",
      " conv2d_6 (Conv2D)              (None, 28, 28, 512)  1180160     ['max_pooling2d_2[0][0]']        \n",
      "                                                                                                  \n",
      " conv2d_7 (Conv2D)              (None, 28, 28, 512)  2359808     ['conv2d_6[0][0]']               \n",
      "                                                                                                  \n",
      " max_pooling2d_3 (MaxPooling2D)  (None, 14, 14, 512)  0          ['conv2d_7[0][0]']               \n",
      "                                                                                                  \n",
      " conv2d_8 (Conv2D)              (None, 14, 14, 2048  9439232     ['max_pooling2d_3[0][0]']        \n",
      "                                )                                                                 \n",
      "                                                                                                  \n",
      " conv2d_9 (Conv2D)              (None, 14, 14, 2048  37750784    ['conv2d_8[0][0]']               \n",
      "                                )                                                                 \n",
      "                                                                                                  \n",
      " conv2d_transpose (Conv2DTransp  (None, 28, 28, 512)  9437696    ['conv2d_9[0][0]']               \n",
      " ose)                                                                                             \n",
      "                                                                                                  \n",
      " concatenate (Concatenate)      (None, 28, 28, 1024  0           ['conv2d_transpose[0][0]',       \n",
      "                                )                                 'conv2d_7[0][0]']               \n",
      "                                                                                                  \n",
      " conv2d_10 (Conv2D)             (None, 28, 28, 512)  4719104     ['concatenate[0][0]']            \n",
      "                                                                                                  \n",
      " conv2d_11 (Conv2D)             (None, 28, 28, 512)  2359808     ['conv2d_10[0][0]']              \n",
      "                                                                                                  \n",
      " conv2d_transpose_1 (Conv2DTran  (None, 56, 56, 256)  1179904    ['conv2d_11[0][0]']              \n",
      " spose)                                                                                           \n",
      "                                                                                                  \n",
      " concatenate_1 (Concatenate)    (None, 56, 56, 512)  0           ['conv2d_transpose_1[0][0]',     \n",
      "                                                                  'conv2d_5[0][0]']               \n",
      "                                                                                                  \n",
      " conv2d_12 (Conv2D)             (None, 56, 56, 256)  1179904     ['concatenate_1[0][0]']          \n",
      "                                                                                                  \n",
      " conv2d_13 (Conv2D)             (None, 56, 56, 256)  590080      ['conv2d_12[0][0]']              \n",
      "                                                                                                  \n",
      " conv2d_transpose_2 (Conv2DTran  (None, 112, 112, 12  295040     ['conv2d_13[0][0]']              \n",
      " spose)                         8)                                                                \n",
      "                                                                                                  \n",
      " concatenate_2 (Concatenate)    (None, 112, 112, 25  0           ['conv2d_transpose_2[0][0]',     \n",
      "                                6)                                'conv2d_3[0][0]']               \n",
      "                                                                                                  \n",
      " conv2d_14 (Conv2D)             (None, 112, 112, 12  295040      ['concatenate_2[0][0]']          \n",
      "                                8)                                                                \n",
      "                                                                                                  \n",
      " conv2d_15 (Conv2D)             (None, 112, 112, 12  147584      ['conv2d_14[0][0]']              \n",
      "                                8)                                                                \n",
      "                                                                                                  \n",
      " conv2d_transpose_3 (Conv2DTran  (None, 224, 224, 64  73792      ['conv2d_15[0][0]']              \n",
      " spose)                         )                                                                 \n",
      "                                                                                                  \n",
      " concatenate_3 (Concatenate)    (None, 224, 224, 12  0           ['conv2d_transpose_3[0][0]',     \n",
      "                                8)                                'conv2d_1[0][0]']               \n",
      "                                                                                                  \n",
      " conv2d_16 (Conv2D)             (None, 224, 224, 64  73792       ['concatenate_3[0][0]']          \n",
      "                                )                                                                 \n",
      "                                                                                                  \n",
      " conv2d_17 (Conv2D)             (None, 224, 224, 64  36928       ['conv2d_16[0][0]']              \n",
      "                                )                                                                 \n",
      "                                                                                                  \n",
      " conv2d_18 (Conv2D)             (None, 224, 224, 1)  65          ['conv2d_17[0][0]']              \n",
      "                                                                                                  \n",
      "==================================================================================================\n",
      "Total params: 72,262,977\n",
      "Trainable params: 72,262,977\n",
      "Non-trainable params: 0\n",
      "__________________________________________________________________________________________________\n"
     ]
    }
   ],
   "source": [
    "OUTPUT_CHANNELS = 1 # as classes\n",
    "\n",
    "def unet(input_shape):\n",
    "    '''\n",
    "    Defines the UNet by connecting the encoder, bottleneck and decoder.\n",
    "    '''\n",
    "\n",
    "    # specify the input shape\n",
    "    inputs = tf.keras.layers.Input(shape=input_shape)\n",
    "\n",
    "    # feed the inputs to the encoder\n",
    "    # (features_1,features_2,features_3,features_4), pooling_4 from Encoder\n",
    "    feature_maps, maxpooling_output  = Encoder(inputs)\n",
    "\n",
    "    # feed the encoder output to the bottleneck\n",
    "    bottle_neck = BottleNeck(maxpooling_output)\n",
    "\n",
    "    # feed the bottleneck and encoder block outputs to the decoder\n",
    "    # specify the number of classes via the `output_channels` argument\n",
    "    outputs = Decoder(bottle_neck, feature_maps, output_channels=OUTPUT_CHANNELS)\n",
    "\n",
    "    # create the model\n",
    "    model = tf.keras.Model(inputs=inputs, outputs=outputs)\n",
    "\n",
    "    return model\n",
    "\n",
    "# instantiate the model\n",
    "input_shape = [224,224,1] # [128,128,1]\n",
    "model = unet(input_shape)\n",
    "\n",
    "# see the resulting model architecture\n",
    "model.summary()"
   ]
  },
  {
   "cell_type": "markdown",
   "id": "53af91d2",
   "metadata": {},
   "source": [
    "## "
   ]
  },
  {
   "cell_type": "markdown",
   "id": "bc3b1981",
   "metadata": {},
   "source": [
    "## Training"
   ]
  },
  {
   "cell_type": "code",
   "execution_count": 9,
   "id": "d5f18b1c",
   "metadata": {},
   "outputs": [],
   "source": [
    "from tensorflow.keras.callbacks import EarlyStopping\n",
    "es = EarlyStopping(patience=10,restore_best_weights=True)"
   ]
  },
  {
   "cell_type": "code",
   "execution_count": 10,
   "id": "e99524a9",
   "metadata": {},
   "outputs": [
    {
     "name": "stdout",
     "output_type": "stream",
     "text": [
      "Epoch 1/100\n",
      "227/227 [==============================] - 78s 303ms/step - loss: 14.2436 - accuracy: 0.9901 - val_loss: 0.7599 - val_accuracy: 0.9930\n",
      "Epoch 2/100\n",
      "227/227 [==============================] - 63s 279ms/step - loss: 0.0118 - accuracy: 0.9949 - val_loss: 0.1942 - val_accuracy: 0.9943\n",
      "Epoch 3/100\n",
      "227/227 [==============================] - 63s 280ms/step - loss: 0.0097 - accuracy: 0.9957 - val_loss: 0.1207 - val_accuracy: 0.9933\n",
      "Epoch 4/100\n",
      "227/227 [==============================] - 64s 281ms/step - loss: 0.0092 - accuracy: 0.9959 - val_loss: 0.0569 - val_accuracy: 0.9921\n",
      "Epoch 5/100\n",
      "227/227 [==============================] - 64s 281ms/step - loss: 0.0085 - accuracy: 0.9961 - val_loss: 0.0668 - val_accuracy: 0.9947\n",
      "Epoch 6/100\n",
      "227/227 [==============================] - 64s 284ms/step - loss: 0.0073 - accuracy: 0.9965 - val_loss: 0.0396 - val_accuracy: 0.9945\n",
      "Epoch 7/100\n",
      "227/227 [==============================] - 64s 281ms/step - loss: 0.0065 - accuracy: 0.9969 - val_loss: 0.1612 - val_accuracy: 0.9954\n",
      "Epoch 8/100\n",
      "227/227 [==============================] - 64s 282ms/step - loss: 0.0062 - accuracy: 0.9970 - val_loss: 0.0890 - val_accuracy: 0.9957\n",
      "Epoch 9/100\n",
      "227/227 [==============================] - 64s 284ms/step - loss: 0.0052 - accuracy: 0.9974 - val_loss: 0.0442 - val_accuracy: 0.9960\n",
      "Epoch 10/100\n",
      "227/227 [==============================] - 64s 283ms/step - loss: 0.0052 - accuracy: 0.9974 - val_loss: 0.0246 - val_accuracy: 0.9956\n",
      "Epoch 11/100\n",
      "227/227 [==============================] - 64s 282ms/step - loss: 0.0046 - accuracy: 0.9975 - val_loss: 0.0249 - val_accuracy: 0.9961\n",
      "Epoch 12/100\n",
      "227/227 [==============================] - 64s 283ms/step - loss: 0.0044 - accuracy: 0.9977 - val_loss: 0.0177 - val_accuracy: 0.9953\n",
      "Epoch 13/100\n",
      "227/227 [==============================] - 64s 282ms/step - loss: 0.0040 - accuracy: 0.9978 - val_loss: 0.0235 - val_accuracy: 0.9957\n",
      "Epoch 14/100\n",
      "227/227 [==============================] - 64s 283ms/step - loss: 0.0038 - accuracy: 0.9978 - val_loss: 0.0109 - val_accuracy: 0.9956\n",
      "Epoch 15/100\n",
      "227/227 [==============================] - 64s 283ms/step - loss: 0.0036 - accuracy: 0.9979 - val_loss: 0.0104 - val_accuracy: 0.9957\n",
      "Epoch 16/100\n",
      "227/227 [==============================] - 65s 288ms/step - loss: 0.0037 - accuracy: 0.9979 - val_loss: 0.0054 - val_accuracy: 0.9974\n",
      "Epoch 17/100\n",
      "227/227 [==============================] - 64s 283ms/step - loss: 0.0034 - accuracy: 0.9980 - val_loss: 0.0085 - val_accuracy: 0.9963\n",
      "Epoch 18/100\n",
      "227/227 [==============================] - 64s 283ms/step - loss: 0.0032 - accuracy: 0.9980 - val_loss: 0.0072 - val_accuracy: 0.9966\n",
      "Epoch 19/100\n",
      "227/227 [==============================] - 64s 283ms/step - loss: 0.0031 - accuracy: 0.9981 - val_loss: 0.0067 - val_accuracy: 0.9970\n",
      "Epoch 20/100\n",
      "227/227 [==============================] - 64s 283ms/step - loss: 0.0030 - accuracy: 0.9981 - val_loss: 0.0085 - val_accuracy: 0.9965\n",
      "Epoch 21/100\n",
      "227/227 [==============================] - 64s 282ms/step - loss: 0.0031 - accuracy: 0.9980 - val_loss: 0.0070 - val_accuracy: 0.9970\n",
      "Epoch 22/100\n",
      "227/227 [==============================] - 65s 286ms/step - loss: 0.0030 - accuracy: 0.9981 - val_loss: 0.0075 - val_accuracy: 0.9974\n",
      "Epoch 23/100\n",
      "227/227 [==============================] - 64s 282ms/step - loss: 0.0028 - accuracy: 0.9981 - val_loss: 0.0063 - val_accuracy: 0.9970\n",
      "Epoch 24/100\n",
      "227/227 [==============================] - 64s 282ms/step - loss: 0.0026 - accuracy: 0.9982 - val_loss: 0.0062 - val_accuracy: 0.9973\n",
      "Epoch 25/100\n",
      "227/227 [==============================] - 64s 283ms/step - loss: 0.0026 - accuracy: 0.9982 - val_loss: 0.0053 - val_accuracy: 0.9975\n",
      "Epoch 26/100\n",
      "227/227 [==============================] - 65s 286ms/step - loss: 0.0026 - accuracy: 0.9982 - val_loss: 0.0069 - val_accuracy: 0.9968\n",
      "Epoch 27/100\n",
      "227/227 [==============================] - 67s 295ms/step - loss: 0.0026 - accuracy: 0.9982 - val_loss: 0.0057 - val_accuracy: 0.9973\n",
      "Epoch 28/100\n",
      "227/227 [==============================] - 67s 296ms/step - loss: 0.0025 - accuracy: 0.9982 - val_loss: 0.0303 - val_accuracy: 0.9970\n",
      "Epoch 29/100\n",
      "227/227 [==============================] - 67s 296ms/step - loss: 0.0025 - accuracy: 0.9982 - val_loss: 0.0058 - val_accuracy: 0.9975\n",
      "Epoch 30/100\n",
      "227/227 [==============================] - 67s 295ms/step - loss: 0.0025 - accuracy: 0.9982 - val_loss: 0.0063 - val_accuracy: 0.9970\n",
      "Epoch 31/100\n",
      "227/227 [==============================] - 67s 295ms/step - loss: 0.0026 - accuracy: 0.9982 - val_loss: 0.0058 - val_accuracy: 0.9973\n",
      "Epoch 32/100\n",
      "227/227 [==============================] - 67s 295ms/step - loss: 0.0024 - accuracy: 0.9983 - val_loss: 0.0081 - val_accuracy: 0.9973\n",
      "Epoch 33/100\n",
      "227/227 [==============================] - 67s 295ms/step - loss: 0.0024 - accuracy: 0.9983 - val_loss: 0.0074 - val_accuracy: 0.9969\n",
      "Epoch 34/100\n",
      "227/227 [==============================] - 63s 277ms/step - loss: 0.0031 - accuracy: 0.9981 - val_loss: 0.0174 - val_accuracy: 0.9943\n",
      "Epoch 35/100\n",
      "227/227 [==============================] - 63s 277ms/step - loss: 0.0031 - accuracy: 0.9980 - val_loss: 0.0058 - val_accuracy: 0.9973\n"
     ]
    }
   ],
   "source": [
    "model.compile(loss='binary_crossentropy',\n",
    "              optimizer='adam',\n",
    "              metrics=['accuracy'])\n",
    "\n",
    "# # number of training images\n",
    "# train_count = 1816 # 227 * 8 - 4\n",
    "\n",
    "# # number of validation images\n",
    "# validation_count = 240 # 30 * 8\n",
    "\n",
    "EPOCHS = 100\n",
    "# BATCH_SIZE = 8\n",
    "\n",
    "# steps_per_epoch = train_count//BATCH_SIZE\n",
    "# validation_steps = validation_count//BATCH_SIZE\n",
    "\n",
    "history = model.fit(train_data, \n",
    "                    validation_data=valid_data, \n",
    "                    epochs=EPOCHS,callbacks=[es])"
   ]
  },
  {
   "cell_type": "markdown",
   "id": "66d1a032",
   "metadata": {},
   "source": [
    "## "
   ]
  },
  {
   "cell_type": "markdown",
   "id": "1d7fd908",
   "metadata": {},
   "source": [
    "## Evaluation "
   ]
  },
  {
   "cell_type": "code",
   "execution_count": 11,
   "id": "2291bc9c",
   "metadata": {},
   "outputs": [],
   "source": [
    "import pandas as pd"
   ]
  },
  {
   "cell_type": "code",
   "execution_count": 12,
   "id": "26ef291b",
   "metadata": {},
   "outputs": [
    {
     "data": {
      "text/plain": [
       "<AxesSubplot:>"
      ]
     },
     "execution_count": 12,
     "metadata": {},
     "output_type": "execute_result"
    },
    {
     "data": {
      "image/png": "[encoded data removed]",
      "text/plain": [
       "<Figure size 432x288 with 1 Axes>"
      ]
     },
     "metadata": {
      "needs_background": "light"
     },
     "output_type": "display_data"
    }
   ],
   "source": [
    "losses = pd.DataFrame(history.history)\n",
    "losses[['loss','val_loss']].plot()"
   ]
  },
  {
   "cell_type": "code",
   "execution_count": 13,
   "id": "801c530b",
   "metadata": {},
   "outputs": [
    {
     "data": {
      "text/plain": [
       "<AxesSubplot:>"
      ]
     },
     "execution_count": 13,
     "metadata": {},
     "output_type": "execute_result"
    },
    {
     "data": {
      "image/png": "[encoded data removed]",
      "text/plain": [
       "<Figure size 432x288 with 1 Axes>"
      ]
     },
     "metadata": {
      "needs_background": "light"
     },
     "output_type": "display_data"
    }
   ],
   "source": [
    "losses[['accuracy','val_accuracy']].plot()"
   ]
  },
  {
   "cell_type": "markdown",
   "id": "7c2a000f",
   "metadata": {},
   "source": [
    "#### Prediction GIF"
   ]
  },
  {
   "cell_type": "code",
   "execution_count": 14,
   "id": "d0f8efe6",
   "metadata": {},
   "outputs": [],
   "source": [
    "from celluloid import Camera "
   ]
  },
  {
   "cell_type": "code",
   "execution_count": 15,
   "id": "800b0544",
   "metadata": {},
   "outputs": [],
   "source": [
    "valid_dataset = tf.data.TFRecordDataset(valid[0])\n",
    "valid_dataset = valid_dataset.map(parse_data).map(prepare_data).batch(8)"
   ]
  },
  {
   "cell_type": "code",
   "execution_count": 16,
   "id": "d56570b0",
   "metadata": {},
   "outputs": [
    {
     "name": "stdout",
     "output_type": "stream",
     "text": [
      "(120, 224, 224, 1)\n",
      "(120, 224, 224, 1)\n"
     ]
    }
   ],
   "source": [
    "preds = model.predict(valid_dataset)\n",
    "print(preds.shape)\n",
    "threshold = 0.3\n",
    "results = np.where(preds > threshold,1,0)\n",
    "print(results.shape)"
   ]
  },
  {
   "cell_type": "code",
   "execution_count": 17,
   "id": "48515eb6",
   "metadata": {},
   "outputs": [
    {
     "name": "stderr",
     "output_type": "stream",
     "text": [
      "MovieWriter ffmpeg unavailable; using Pillow instead.\n"
     ]
    },
    {
     "data": {
      "image/png": "[encoded data removed]",
      "text/plain": [
       "<Figure size 432x288 with 1 Axes>"
      ]
     },
     "metadata": {
      "needs_background": "light"
     },
     "output_type": "display_data"
    }
   ],
   "source": [
    "raw_dataset = tf.data.TFRecordDataset(valid[0])\n",
    "parsed_dataset = raw_dataset.map(parse_data).map(prepare_data)\n",
    "\n",
    "fig = plt.figure()\n",
    "camera_test = Camera(fig)\n",
    "for data,pred in zip(parsed_dataset,results):\n",
    "    mri, seg_map = data\n",
    "#     print(pred.shape)\n",
    "\n",
    "    plt.imshow(mri,cmap='bone')\n",
    "#     plt.show()\n",
    "    \n",
    "    # mask array where \n",
    "    pred_label = np.ma.masked_where(pred == 0,pred)\n",
    "    plt.imshow(pred_label, alpha=0.5, cmap=\"autumn\")\n",
    "    plt.axis('off')\n",
    "    camera_test.snap()\n",
    "    \n",
    "animation = camera_test.animate()\n",
    "animation.save('pred_UNET_tf_artium.gif',fps=60)     "
   ]
  },
  {
   "cell_type": "code",
   "execution_count": null,
   "id": "14e8b223",
   "metadata": {},
   "outputs": [],
   "source": []
  }
 ],
 "metadata": {
  "kernelspec": {
   "display_name": "Python 3 (ipykernel)",
   "language": "python",
   "name": "python3"
  },
  "language_info": {
   "codemirror_mode": {
    "name": "ipython",
    "version": 3
   },
   "file_extension": ".py",
   "mimetype": "text/x-python",
   "name": "python",
   "nbconvert_exporter": "python",
   "pygments_lexer": "ipython3",
   "version": "3.8.8"
  }
 },
 "nbformat": 4,
 "nbformat_minor": 5
}
