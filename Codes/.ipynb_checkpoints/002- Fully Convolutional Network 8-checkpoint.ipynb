{
 "cells": [
  {
   "cell_type": "code",
   "execution_count": 1,
   "id": "694e7c9d",
   "metadata": {},
   "outputs": [],
   "source": [
    "import tensorflow as tf \n",
    "import matplotlib.pyplot as plt\n",
    "import numpy as np"
   ]
  },
  {
   "cell_type": "markdown",
   "id": "1ba366b1",
   "metadata": {},
   "source": [
    "### Test Data Parser"
   ]
  },
  {
   "cell_type": "code",
   "execution_count": 3,
   "id": "774f8ede",
   "metadata": {},
   "outputs": [],
   "source": [
    "def parse_data(sample):\n",
    "    feature_description = {\n",
    "        'image':tf.io.FixedLenFeature([], tf.string),\n",
    "        'seg_map':tf.io.FixedLenFeature([], tf.string),\n",
    "    }\n",
    "    sample = tf.io.parse_single_example(sample, feature_description)\n",
    "    sample['image'] = tf.io.decode_png(sample['image'],channels=1,dtype=tf.uint16)\n",
    "    sample['seg_map'] = tf.io.decode_png(sample['seg_map'],channels=1)\n",
    "    return sample\n",
    "\n",
    "\n",
    "def prepare_data(sample):\n",
    "    mri = tf.cast(sample['image'],dtype=tf.float16)\n",
    "    mri = tf.image.resize(mri,size=(224,224))\n",
    "    mri = mri / 255.0\n",
    "    \n",
    "    seg_map = tf.cast(sample['seg_map'],dtype=tf.uint8)\n",
    "    seg_map = tf.image.resize(seg_map,size=(224,224))\n",
    "    \n",
    "    return mri, seg_map"
   ]
  },
  {
   "cell_type": "markdown",
   "id": "46985e85",
   "metadata": {},
   "source": [
    "# "
   ]
  },
  {
   "cell_type": "markdown",
   "id": "3b537605",
   "metadata": {},
   "source": [
    "# Building the Model"
   ]
  },
  {
   "cell_type": "markdown",
   "id": "91833a12",
   "metadata": {},
   "source": [
    "### <font color='red'>Datasets</font>"
   ]
  },
  {
   "cell_type": "code",
   "execution_count": 5,
   "id": "8aedb7b3",
   "metadata": {},
   "outputs": [
    {
     "data": {
      "text/plain": [
       "(16, 2, 2)"
      ]
     },
     "execution_count": 5,
     "metadata": {},
     "output_type": "execute_result"
    }
   ],
   "source": [
    "train = tf.io.gfile.glob('../datasets/Atrium-Segmentation/TF-Record/train/*')\n",
    "valid = tf.io.gfile.glob('../datasets/Atrium-Segmentation/TF-Record/valid/*')\n",
    "test = tf.io.gfile.glob('../datasets/Atrium-Segmentation/TF-Record/test/*')\n",
    "len(train),len(valid),len(test)"
   ]
  },
  {
   "cell_type": "code",
   "execution_count": 6,
   "id": "99b183c6",
   "metadata": {},
   "outputs": [],
   "source": [
    "def get_dataset(filenames, batch_size, train_test = 'train'):\n",
    "    if train_test == 'train':\n",
    "        dataset = (\n",
    "            tf.data.TFRecordDataset(filenames, num_parallel_reads=tf.data.AUTOTUNE)\n",
    "            .map(parse_data, num_parallel_calls=tf.data.AUTOTUNE)\n",
    "            .map(prepare_data, num_parallel_calls=tf.data.AUTOTUNE)\n",
    "#             .shuffle(batch_size * 10)\n",
    "            .batch(batch_size)\n",
    "            .prefetch(tf.data.AUTOTUNE)\n",
    "        )\n",
    "        \n",
    "        return dataset\n",
    "    \n",
    "    elif train_test == 'valid':\n",
    "        dataset = (\n",
    "            tf.data.TFRecordDataset(filenames, num_parallel_reads=tf.data.AUTOTUNE)\n",
    "            .map(parse_data, num_parallel_calls=tf.data.AUTOTUNE)\n",
    "            .map(prepare_data, num_parallel_calls=tf.data.AUTOTUNE)\n",
    "            .batch(batch_size)\n",
    "            .prefetch(tf.data.AUTOTUNE)\n",
    "        )\n",
    "        \n",
    "        return dataset\n",
    "    \n",
    "    elif train_test == 'test':\n",
    "        dataset = (\n",
    "            tf.data.TFRecordDataset(filenames, num_parallel_reads=tf.data.AUTOTUNE)\n",
    "            .map(parse_data, num_parallel_calls=tf.data.AUTOTUNE)\n",
    "            .map(prepare_data, num_parallel_calls=tf.data.AUTOTUNE)\n",
    "            .batch(batch_size)\n",
    "            .prefetch(tf.data.AUTOTUNE)\n",
    "        )\n",
    "        \n",
    "        return dataset"
   ]
  },
  {
   "cell_type": "markdown",
   "id": "ead431b5",
   "metadata": {},
   "source": [
    "#### <font color='red'> TF Dataset</font>"
   ]
  },
  {
   "cell_type": "code",
   "execution_count": 8,
   "id": "266fdc19",
   "metadata": {},
   "outputs": [],
   "source": [
    "train_data = get_dataset(train,batch_size=8,train_test='train')\n",
    "valid_data = get_dataset(valid,batch_size=8,train_test='valid')\n",
    "test_data = get_dataset(test,batch_size=8,train_test='test')"
   ]
  },
  {
   "cell_type": "markdown",
   "id": "7a739e64",
   "metadata": {},
   "source": [
    "## "
   ]
  },
  {
   "cell_type": "markdown",
   "id": "9d67f5ed",
   "metadata": {},
   "source": [
    "## Model Definition\n",
    "\n",
    "<img src='https://drive.google.com/uc?export=view&id=1lrqB4YegV8jXWNfyYAaeuFlwXIc54aRP' alt='fcn-8'>"
   ]
  },
  {
   "cell_type": "markdown",
   "id": "897b84cc",
   "metadata": {},
   "source": [
    "### Image Input Is 256 x 256 x 1"
   ]
  },
  {
   "cell_type": "code",
   "execution_count": 10,
   "id": "4851cb38",
   "metadata": {},
   "outputs": [],
   "source": [
    "def VGG_block(image_input, n_convs, filters, kernel_size, activation, pool_size,pool_stride, block_name):\n",
    "    \n",
    "    x = image_input # inputs = tf.keras.layers.Input(shape=(224,224,1))\n",
    "    \n",
    "    for layer in range(n_convs):\n",
    "        x = tf.keras.layers.Conv2D(filters,kernel_size,activation=activation, padding='same',\n",
    "                                   name=f\"conv2d_{block_name}{layer + 1}\")(x)\n",
    "        \n",
    "    maxpooling = #.protected\n",
    "    return maxpooling"
   ]
  },
  {
   "cell_type": "code",
   "execution_count": 11,
   "id": "630ddb62",
   "metadata": {},
   "outputs": [],
   "source": [
    "def Encoder(image):\n",
    "    \"\"\"\n",
    "    input: image (256x256x1)\n",
    "    return: outputs of each VGG block\n",
    "    \"\"\"\n",
    "    \n",
    "    layer_1 = VGG_block(image, n_convs=2, filters=64, kernel_size=(3,3), \n",
    "                        activation='relu',pool_size=(2,2), pool_stride=(2,2), block_name='block1')\n",
    "    \n",
    "    maxpooling_output_1 = layer_1 # 224 / 2 = 112\n",
    "##############################################\n",
    "    layer_2 = VGG_block(layer_1, n_convs=2, filters = 128, kernel_size=(3,3), \n",
    "                        activation='relu',pool_size=(2,2), pool_stride=(2,2), block_name='block2')\n",
    "    \n",
    "    maxpooling_output_2 = layer_2 # 112 / 2 = 56\n",
    "##############################################\n",
    "    layer_3 = VGG_block(layer_2, n_convs=3, filters =256, kernel_size=(3,3), \n",
    "                        activation='relu',pool_size=(2,2), pool_stride=(2,2), block_name='block3')\n",
    "    \n",
    "    maxpooling_output_3 = layer_3 # 56 / 2 = 28\n",
    "##############################################    \n",
    "    layer_4 = VGG_block(layer_3, n_convs=3, filters = 512, kernel_size=(3,3), \n",
    "                        activation='relu',pool_size=(2,2), pool_stride=(2,2), block_name='block4')\n",
    "    \n",
    "    maxpooling_output_4 = layer_4   # 28 / 2 = 14\n",
    "##############################################     \n",
    "    layer_5 = VGG_block(layer_4, n_convs=3, filters = 512, kernel_size=(3,3), \n",
    "                        activation='relu',pool_size=(2,2), pool_stride=(2,2), block_name='block5')\n",
    "    \n",
    "    maxpooling_output_5 = layer_5    ## downsampled to 7 x 7 x 512 where 14 / 2 = 7\n",
    "         \n",
    "    \n",
    "##############################################         \n",
    "    # VGG Model\n",
    "    vgg  = tf.keras.models.Model(inputs = image , outputs = maxpooling_output_5)\n",
    "\n",
    "    n = 4096 # number of filters for the output convolutional layers\n",
    "    # Extract more features by chaining two more convolution layers.\n",
    "    layer_6 = tf.keras.layers.Conv2D( filters = n , kernel_size= ( 7 , 7 ) , \n",
    "                                     activation='relu' , padding='same', name=\"conv6\")(maxpooling_output_5)\n",
    "    \n",
    "    layer_7 = tf.keras.layers.Conv2D( filters = n , kernel_size = ( 1 , 1 ) , activation='relu' , padding='same', name=\"conv7\")(layer_6)\n",
    "    \n",
    "    # only need two of these (maxpool_3, maxpool_4) in this particular exercise \n",
    "    return (maxpooling_output_1, maxpooling_output_2, maxpooling_output_3, maxpooling_output_4, layer_7)"
   ]
  },
  {
   "cell_type": "code",
   "execution_count": 12,
   "id": "ca85c903",
   "metadata": {},
   "outputs": [],
   "source": [
    "def Decoder(Encoder, n_classes):\n",
    "\n",
    "    # unpack the output of the Encoder\n",
    "    maxpooling_output_1, maxpooling_output_2, maxpooling_output_3, maxpooling_output_4, layer_7 = Encoder\n",
    "    \n",
    "    # Upsampling \n",
    "    # upsample the output of the encoder then crop extra pixels that were introduced\n",
    "    output = tf.keras.layers.Conv2DTranspose(n_classes , kernel_size=(4,4) ,  strides=(2,2) , use_bias=False )(layer_7)\n",
    "    output = tf.keras.layers.Cropping2D(cropping=(1,1))(output) #  (None, 14, 14, 12) \n",
    "\n",
    "    # load the pool 4 prediction and do a 1x1 convolution to reshape it to the same shape of `o` above\n",
    "    output2 = maxpooling_output_4 # (None, 14, 14, 512)\n",
    "    output2 = tf.keras.layers.Conv2D(n_classes , ( 1 , 1 ) , activation='relu' , padding='same')(output2) \n",
    "              # (None, 14, 14, 12)\n",
    "\n",
    "    # add the results of the upsampling and pool 4 prediction\n",
    "    output = tf.keras.layers.Add()([output, output2]) # (None, 28,28,12)\n",
    "\n",
    "    # upsample the resulting tensor of the operation you just did\n",
    "    output =tf.keras.layers.Conv2DTranspose( n_classes , kernel_size=(4,4) ,  strides=(2,2) , use_bias=False )(output)\n",
    "    output = tf.keras.layers.Cropping2D(cropping=(1, 1))(output)\n",
    "\n",
    "    # load the pool 3 prediction and do a 1x1 convolution to reshape it to the same shape of `o` above\n",
    "    output2 = maxpooling_output_3\n",
    "    output2 = tf.keras.layers.Conv2D(n_classes , ( 1 , 1 ) , activation='relu' , padding='same')(output2)\n",
    "\n",
    "    # add the results of the upsampling and pool 3 prediction\n",
    "    output = tf.keras.layers.Add()([output, output2])\n",
    "\n",
    "    # upsample up to the size of the original image   # append a softmax to get the class probabilities\n",
    "    output = tf.keras.layers.Conv2DTranspose(n_classes , kernel_size=(8,8) ,  \n",
    "                                        strides=(8,8) , use_bias=False ,activation='sigmoid')(output)\n",
    "\n",
    "\n",
    "    return output"
   ]
  },
  {
   "cell_type": "markdown",
   "id": "7041bb27",
   "metadata": {},
   "source": [
    "## Combining Encoder and Decoder"
   ]
  },
  {
   "cell_type": "code",
   "execution_count": 13,
   "id": "68185fcf",
   "metadata": {},
   "outputs": [
    {
     "name": "stdout",
     "output_type": "stream",
     "text": [
      "Model: \"model_1\"\n",
      "__________________________________________________________________________________________________\n",
      " Layer (type)                   Output Shape         Param #     Connected to                     \n",
      "==================================================================================================\n",
      " input_1 (InputLayer)           [(None, 224, 224, 1  0           []                               \n",
      "                                )]                                                                \n",
      "                                                                                                  \n",
      " conv2d_block11 (Conv2D)        (None, 224, 224, 64  640         ['input_1[0][0]']                \n",
      "                                )                                                                 \n",
      "                                                                                                  \n",
      " conv2d_block12 (Conv2D)        (None, 224, 224, 64  36928       ['conv2d_block11[0][0]']         \n",
      "                                )                                                                 \n",
      "                                                                                                  \n",
      " maxpool_block12 (MaxPooling2D)  (None, 112, 112, 64  0          ['conv2d_block12[0][0]']         \n",
      "                                )                                                                 \n",
      "                                                                                                  \n",
      " conv2d_block21 (Conv2D)        (None, 112, 112, 12  73856       ['maxpool_block12[0][0]']        \n",
      "                                8)                                                                \n",
      "                                                                                                  \n",
      " conv2d_block22 (Conv2D)        (None, 112, 112, 12  147584      ['conv2d_block21[0][0]']         \n",
      "                                8)                                                                \n",
      "                                                                                                  \n",
      " maxpool_block22 (MaxPooling2D)  (None, 56, 56, 128)  0          ['conv2d_block22[0][0]']         \n",
      "                                                                                                  \n",
      " conv2d_block31 (Conv2D)        (None, 56, 56, 256)  295168      ['maxpool_block22[0][0]']        \n",
      "                                                                                                  \n",
      " conv2d_block32 (Conv2D)        (None, 56, 56, 256)  590080      ['conv2d_block31[0][0]']         \n",
      "                                                                                                  \n",
      " conv2d_block33 (Conv2D)        (None, 56, 56, 256)  590080      ['conv2d_block32[0][0]']         \n",
      "                                                                                                  \n",
      " maxpool_block33 (MaxPooling2D)  (None, 28, 28, 256)  0          ['conv2d_block33[0][0]']         \n",
      "                                                                                                  \n",
      " conv2d_block41 (Conv2D)        (None, 28, 28, 512)  1180160     ['maxpool_block33[0][0]']        \n",
      "                                                                                                  \n",
      " conv2d_block42 (Conv2D)        (None, 28, 28, 512)  2359808     ['conv2d_block41[0][0]']         \n",
      "                                                                                                  \n",
      " conv2d_block43 (Conv2D)        (None, 28, 28, 512)  2359808     ['conv2d_block42[0][0]']         \n",
      "                                                                                                  \n",
      " maxpool_block43 (MaxPooling2D)  (None, 14, 14, 512)  0          ['conv2d_block43[0][0]']         \n",
      "                                                                                                  \n",
      " conv2d_block51 (Conv2D)        (None, 14, 14, 512)  2359808     ['maxpool_block43[0][0]']        \n",
      "                                                                                                  \n",
      " conv2d_block52 (Conv2D)        (None, 14, 14, 512)  2359808     ['conv2d_block51[0][0]']         \n",
      "                                                                                                  \n",
      " conv2d_block53 (Conv2D)        (None, 14, 14, 512)  2359808     ['conv2d_block52[0][0]']         \n",
      "                                                                                                  \n",
      " maxpool_block53 (MaxPooling2D)  (None, 7, 7, 512)   0           ['conv2d_block53[0][0]']         \n",
      "                                                                                                  \n",
      " conv6 (Conv2D)                 (None, 7, 7, 4096)   102764544   ['maxpool_block53[0][0]']        \n",
      "                                                                                                  \n",
      " conv7 (Conv2D)                 (None, 7, 7, 4096)   16781312    ['conv6[0][0]']                  \n",
      "                                                                                                  \n",
      " conv2d_transpose (Conv2DTransp  (None, 16, 16, 1)   65536       ['conv7[0][0]']                  \n",
      " ose)                                                                                             \n",
      "                                                                                                  \n",
      " cropping2d (Cropping2D)        (None, 14, 14, 1)    0           ['conv2d_transpose[0][0]']       \n",
      "                                                                                                  \n",
      " conv2d (Conv2D)                (None, 14, 14, 1)    513         ['maxpool_block43[0][0]']        \n",
      "                                                                                                  \n",
      " add (Add)                      (None, 14, 14, 1)    0           ['cropping2d[0][0]',             \n",
      "                                                                  'conv2d[0][0]']                 \n",
      "                                                                                                  \n",
      " conv2d_transpose_1 (Conv2DTran  (None, 30, 30, 1)   16          ['add[0][0]']                    \n",
      " spose)                                                                                           \n",
      "                                                                                                  \n",
      " cropping2d_1 (Cropping2D)      (None, 28, 28, 1)    0           ['conv2d_transpose_1[0][0]']     \n",
      "                                                                                                  \n",
      " conv2d_1 (Conv2D)              (None, 28, 28, 1)    257         ['maxpool_block33[0][0]']        \n",
      "                                                                                                  \n",
      " add_1 (Add)                    (None, 28, 28, 1)    0           ['cropping2d_1[0][0]',           \n",
      "                                                                  'conv2d_1[0][0]']               \n",
      "                                                                                                  \n",
      " conv2d_transpose_2 (Conv2DTran  (None, 224, 224, 1)  64         ['add_1[0][0]']                  \n",
      " spose)                                                                                           \n",
      "                                                                                                  \n",
      "==================================================================================================\n",
      "Total params: 134,325,778\n",
      "Trainable params: 134,325,778\n",
      "Non-trainable params: 0\n",
      "__________________________________________________________________________________________________\n"
     ]
    }
   ],
   "source": [
    "def segmentation_model():\n",
    "    inputs = tf.keras.layers.Input(shape=(224,224,1))\n",
    "    # Encoder\n",
    "    convs = Encoder(image=inputs)\n",
    "    # Decoder\n",
    "    outputs = Decoder(convs, n_classes=1)\n",
    "    # Final Model\n",
    "    model = tf.keras.Model(inputs=inputs, outputs=outputs)\n",
    "\n",
    "    return model\n",
    "\n",
    "model = segmentation_model()\n",
    "model.summary()"
   ]
  },
  {
   "cell_type": "markdown",
   "id": "26b68372",
   "metadata": {},
   "source": [
    "## "
   ]
  },
  {
   "cell_type": "markdown",
   "id": "654f5329",
   "metadata": {},
   "source": [
    "## Training| "
   ]
  },
  {
   "cell_type": "code",
   "execution_count": 14,
   "id": "9d6edf08",
   "metadata": {},
   "outputs": [],
   "source": [
    "from tensorflow.keras.callbacks import EarlyStopping\n",
    "es = EarlyStopping(patience=3,restore_best_weights=True)"
   ]
  },
  {
   "cell_type": "code",
   "execution_count": 15,
   "id": "d6d8d91f",
   "metadata": {},
   "outputs": [
    {
     "name": "stdout",
     "output_type": "stream",
     "text": [
      "Epoch 1/100\n",
      "227/227 [==============================] - 63s 248ms/step - loss: 0.4064 - accuracy: 0.7416 - val_loss: 0.1422 - val_accuracy: 0.9764\n",
      "Epoch 2/100\n",
      "227/227 [==============================] - 52s 229ms/step - loss: 0.0255 - accuracy: 0.9891 - val_loss: 0.0823 - val_accuracy: 0.9917\n",
      "Epoch 3/100\n",
      "227/227 [==============================] - 52s 230ms/step - loss: 0.0195 - accuracy: 0.9924 - val_loss: 0.0694 - val_accuracy: 0.9930\n",
      "Epoch 4/100\n",
      "227/227 [==============================] - 52s 227ms/step - loss: 0.0174 - accuracy: 0.9933 - val_loss: 0.0594 - val_accuracy: 0.9930\n",
      "Epoch 5/100\n",
      "227/227 [==============================] - 50s 221ms/step - loss: 0.0167 - accuracy: 0.9932 - val_loss: 0.0646 - val_accuracy: 0.9930\n",
      "Epoch 6/100\n",
      "227/227 [==============================] - 50s 219ms/step - loss: 0.0163 - accuracy: 0.9933 - val_loss: 0.0577 - val_accuracy: 0.9930\n",
      "Epoch 7/100\n",
      "227/227 [==============================] - 48s 213ms/step - loss: 0.0160 - accuracy: 0.9932 - val_loss: 0.0588 - val_accuracy: 0.9930\n",
      "Epoch 8/100\n",
      "227/227 [==============================] - 50s 220ms/step - loss: 0.0156 - accuracy: 0.9932 - val_loss: 0.0689 - val_accuracy: 0.9930\n",
      "Epoch 9/100\n",
      "227/227 [==============================] - 50s 220ms/step - loss: 0.0150 - accuracy: 0.9934 - val_loss: 0.0535 - val_accuracy: 0.9930\n",
      "Epoch 10/100\n",
      "227/227 [==============================] - 48s 213ms/step - loss: 0.0152 - accuracy: 0.9933 - val_loss: 0.0473 - val_accuracy: 0.9930\n",
      "Epoch 11/100\n",
      "227/227 [==============================] - 48s 212ms/step - loss: 0.0152 - accuracy: 0.9934 - val_loss: 0.0842 - val_accuracy: 0.9930\n",
      "Epoch 12/100\n",
      "227/227 [==============================] - 49s 215ms/step - loss: 0.0146 - accuracy: 0.9934 - val_loss: 0.0600 - val_accuracy: 0.9930\n",
      "Epoch 13/100\n",
      "227/227 [==============================] - 48s 212ms/step - loss: 0.0146 - accuracy: 0.9935 - val_loss: 0.0556 - val_accuracy: 0.9930\n"
     ]
    }
   ],
   "source": [
    "model.compile(loss='binary_crossentropy',\n",
    "              optimizer='adam',\n",
    "              metrics=['accuracy'])\n",
    "\n",
    "\n",
    "EPOCHS = 100\n",
    "\n",
    "\n",
    "history = model.fit(train_data, \n",
    "                    validation_data=valid_data, \n",
    "                    epochs=EPOCHS,callbacks=[es])"
   ]
  },
  {
   "cell_type": "markdown",
   "id": "2fcc234e",
   "metadata": {},
   "source": [
    "## "
   ]
  },
  {
   "cell_type": "markdown",
   "id": "1bfef8de",
   "metadata": {},
   "source": [
    "## Evaluation"
   ]
  },
  {
   "cell_type": "code",
   "execution_count": 16,
   "id": "8506b956",
   "metadata": {},
   "outputs": [],
   "source": [
    "import pandas as pd"
   ]
  },
  {
   "cell_type": "code",
   "execution_count": 17,
   "id": "242eb0d4",
   "metadata": {},
   "outputs": [
    {
     "data": {
      "text/plain": [
       "<AxesSubplot:>"
      ]
     },
     "execution_count": 17,
     "metadata": {},
     "output_type": "execute_result"
    },
    {
     "data": {
      "image/png": "[encoded data removed]",
      "text/plain": [
       "<Figure size 432x288 with 1 Axes>"
      ]
     },
     "metadata": {
      "needs_background": "light"
     },
     "output_type": "display_data"
    }
   ],
   "source": [
    "losses = pd.DataFrame(history.history)\n",
    "losses[['loss','val_loss']].plot()"
   ]
  },
  {
   "cell_type": "code",
   "execution_count": 18,
   "id": "7caf2c4d",
   "metadata": {},
   "outputs": [
    {
     "data": {
      "text/plain": [
       "<AxesSubplot:>"
      ]
     },
     "execution_count": 18,
     "metadata": {},
     "output_type": "execute_result"
    },
    {
     "data": {
      "image/png": "[encoded data removed]",
      "text/plain": [
       "<Figure size 432x288 with 1 Axes>"
      ]
     },
     "metadata": {
      "needs_background": "light"
     },
     "output_type": "display_data"
    }
   ],
   "source": [
    "losses[['accuracy','val_accuracy']].plot()"
   ]
  },
  {
   "cell_type": "markdown",
   "id": "5c5d0ad7",
   "metadata": {},
   "source": [
    "### Building pred GIF"
   ]
  },
  {
   "cell_type": "code",
   "execution_count": 20,
   "id": "7599bbb2",
   "metadata": {},
   "outputs": [],
   "source": [
    "valid_dataset = tf.data.TFRecordDataset(valid[0])\n",
    "valid_dataset = valid_dataset.map(parse_data).map(prepare_data).batch(8)"
   ]
  },
  {
   "cell_type": "code",
   "execution_count": 21,
   "id": "0302cda5",
   "metadata": {},
   "outputs": [
    {
     "name": "stdout",
     "output_type": "stream",
     "text": [
      "(120, 224, 224, 1)\n",
      "(120, 224, 224, 1)\n"
     ]
    }
   ],
   "source": [
    "preds = model.predict(valid_dataset)\n",
    "print(preds.shape)\n",
    "threshold = 0.3\n",
    "results = np.where(preds > threshold,1,0)\n",
    "print(results.shape)"
   ]
  },
  {
   "cell_type": "code",
   "execution_count": 22,
   "id": "393a7c0c",
   "metadata": {},
   "outputs": [
    {
     "name": "stderr",
     "output_type": "stream",
     "text": [
      "MovieWriter ffmpeg unavailable; using Pillow instead.\n"
     ]
    },
    {
     "data": {
      "image/png": "[encoded data removed]",
      "text/plain": [
       "<Figure size 432x288 with 1 Axes>"
      ]
     },
     "metadata": {
      "needs_background": "light"
     },
     "output_type": "display_data"
    }
   ],
   "source": [
    "from celluloid import Camera\n",
    "\n",
    "raw_dataset = tf.data.TFRecordDataset(valid[0])\n",
    "parsed_dataset = raw_dataset.map(parse_data).map(prepare_data)\n",
    "\n",
    "fig = plt.figure()\n",
    "camera_test = Camera(fig)\n",
    "for data,pred in zip(parsed_dataset,results):\n",
    "    mri, seg_map = data\n",
    "#     print(pred.shape)\n",
    "\n",
    "    plt.imshow(mri,cmap='bone')\n",
    "#     plt.show()\n",
    "    \n",
    "    # mask array where \n",
    "    pred_label = np.ma.masked_where(pred == 0,pred)\n",
    "    plt.imshow(pred_label, alpha=0.5, cmap=\"autumn\")\n",
    "    plt.axis('off')\n",
    "    camera_test.snap()\n",
    "    \n",
    "animation = camera_test.animate()\n",
    "animation.save('pred_tf_artium.gif',fps=60)      "
   ]
  },
  {
   "cell_type": "code",
   "execution_count": null,
   "id": "30c7865c",
   "metadata": {},
   "outputs": [],
   "source": []
  },
  {
   "cell_type": "code",
   "execution_count": null,
   "id": "a6810ef3",
   "metadata": {},
   "outputs": [],
   "source": []
  }
 ],
 "metadata": {
  "kernelspec": {
   "display_name": "Python 3 (ipykernel)",
   "language": "python",
   "name": "python3"
  },
  "language_info": {
   "codemirror_mode": {
    "name": "ipython",
    "version": 3
   },
   "file_extension": ".py",
   "mimetype": "text/x-python",
   "name": "python",
   "nbconvert_exporter": "python",
   "pygments_lexer": "ipython3",
   "version": "3.8.8"
  }
 },
 "nbformat": 4,
 "nbformat_minor": 5
}
